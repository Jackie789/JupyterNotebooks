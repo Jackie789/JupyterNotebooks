{
 "cells": [
  {
   "cell_type": "markdown",
   "metadata": {
    "deletable": true,
    "editable": true
   },
   "source": [
    "## Iterate and Evaluate Your Classifier\n",
    "\n",
    "** Jackie Zuker **\n",
    "\n",
    "It's time to revisit your classifier from the previous assignment. Using the evaluation techniques we've covered here, look at your classifier's performance in more detail. Then go back and iterate. Repeat this process until you have five different versions of your classifier. Once you've iterated, answer these questions to compare the performance of each:\n",
    "\n",
    "* Do any of your classifiers seem to overfit?\n",
    "* Which seem to perform the best? Why?\n",
    "* What features seemed to be most impactful to performance?\n",
    "\n",
    "Write up your iterations and answers to the above questions in a few pages. Submit a link below and go over it with your mentor to see if they have any other ideas on how you could improve your classifier's performance.\n",
    "\n",
    "Five versions of my classifier: \n",
    "1. Bernoulli NB cross-validation 10-folds\n",
    "2. Gaussian Naive Bayes (10-folds)\n",
    "3. Multinomial Naive Bayes\n",
    "4. Decision Tree\n",
    "5. KNN Cross-validation"
   ]
  },
  {
   "cell_type": "code",
   "execution_count": 1,
   "metadata": {
    "collapsed": false,
    "deletable": true,
    "editable": true
   },
   "outputs": [
    {
     "name": "stderr",
     "output_type": "stream",
     "text": [
      "/Library/Frameworks/Python.framework/Versions/3.5/lib/python3.5/site-packages/sklearn/cross_validation.py:44: DeprecationWarning: This module was deprecated in version 0.18 in favor of the model_selection module into which all the refactored classes and functions are moved. Also note that the interface of the new CV iterators are different from that of this module. This module will be removed in 0.20.\n",
      "  \"This module will be removed in 0.20.\", DeprecationWarning)\n"
     ]
    }
   ],
   "source": [
    "%matplotlib inline\n",
    "import numpy as np\n",
    "import pandas as pd\n",
    "import scipy\n",
    "import sklearn\n",
    "import matplotlib.pyplot as plt\n",
    "import seaborn as sns\n",
    "\n",
    "from sklearn.naive_bayes import BernoulliNB\n",
    "from sklearn.naive_bayes import GaussianNB\n",
    "from sklearn.naive_bayes import MultinomialNB\n",
    "from sklearn.tree import DecisionTreeClassifier\n",
    "from sklearn.neighbors import KNeighborsClassifier\n",
    "from sklearn.cross_validation import cross_val_score\n"
   ]
  },
  {
   "cell_type": "code",
   "execution_count": 2,
   "metadata": {
    "collapsed": true,
    "deletable": true,
    "editable": true
   },
   "outputs": [],
   "source": [
    "# Grab and process the raw data.\n",
    "data_path = (\"/Users/jacquelynzuker/Desktop/sentiment labelled sentences/amazon_cells_labelled.txt\"\n",
    "            )\n",
    "amazon_raw = pd.read_csv(data_path, delimiter= '\\t', header=None)\n",
    "amazon_raw.columns = ['message', 'satisfaction']"
   ]
  },
  {
   "cell_type": "code",
   "execution_count": 3,
   "metadata": {
    "collapsed": true,
    "deletable": true,
    "editable": true
   },
   "outputs": [],
   "source": [
    "keywords = ['must have', 'excellent', 'awesome', 'recommend', 'good', \n",
    "            'great', 'happy', 'love', 'satisfied', 'best', 'works', \n",
    "            'liked', 'easy', 'quick', 'incredible', 'perfectly',\n",
    "           'right', 'cool', 'joy', 'easier', 'fast', 'nice', 'family',\n",
    "           'incredible', 'sweetest', 'poor', 'broke', 'doesn\\'t work', \n",
    "            'not work', 'died', 'don\\'t buy', 'problem', 'useless', \n",
    "            'awful', 'failed', 'terrible', 'horrible', '10',\n",
    "           'cool']\n",
    "\n",
    "for key in keywords:\n",
    "    # Note that we add spaces around the key so that we're getting the word,\n",
    "    # not just pattern matching.\n",
    "    amazon_raw[str(key)] = amazon_raw.message.str.contains(\n",
    "        '' + str(key) + '',\n",
    "        case = False\n",
    "    )\n",
    "    \n",
    "    "
   ]
  },
  {
   "cell_type": "code",
   "execution_count": 4,
   "metadata": {
    "collapsed": true,
    "deletable": true,
    "editable": true
   },
   "outputs": [],
   "source": [
    "data = amazon_raw[keywords]\n",
    "target = amazon_raw['satisfaction']"
   ]
  },
  {
   "cell_type": "markdown",
   "metadata": {
    "deletable": true,
    "editable": true
   },
   "source": [
    "## 1. Bernoulli Naive Bayes (Cross-Validation 10-folds)"
   ]
  },
  {
   "cell_type": "code",
   "execution_count": 5,
   "metadata": {
    "collapsed": false,
    "deletable": true,
    "editable": true
   },
   "outputs": [
    {
     "name": "stdout",
     "output_type": "stream",
     "text": [
      "Percent accuracy within each fold:\n",
      "\n",
      "[ 0.81  0.78  0.83  0.77  0.8   0.72  0.69  0.77  0.8   0.76]\n",
      "\n",
      "Mean accuracy:\n",
      "\n",
      "0.773\n"
     ]
    }
   ],
   "source": [
    "# Instantiate our model and store it in a new variable.\n",
    "bnb = BernoulliNB()\n",
    "scores = cross_val_score(bnb, data, target, cv = 10, scoring=\"accuracy\")\n",
    "\n",
    "print(\"Percent accuracy within each fold:\\n\")\n",
    "print(scores)\n",
    "print(\"\\nMean accuracy:\\n\")\n",
    "print(scores.mean())\n"
   ]
  },
  {
   "cell_type": "code",
   "execution_count": 6,
   "metadata": {
    "collapsed": true,
    "deletable": true,
    "editable": true
   },
   "outputs": [],
   "source": [
    "# Create a dataFrame to compare performance of Classifier Models\n",
    "classifiers_compare = pd.DataFrame()\n",
    "classifiers_compare = classifiers_compare.append([[\"BernoulliNB\", (scores.mean())]])"
   ]
  },
  {
   "cell_type": "markdown",
   "metadata": {
    "deletable": true,
    "editable": true
   },
   "source": [
    "## 2. Gaussian Naive Bayes\n"
   ]
  },
  {
   "cell_type": "code",
   "execution_count": 7,
   "metadata": {
    "collapsed": false,
    "deletable": true,
    "editable": true,
    "scrolled": true
   },
   "outputs": [
    {
     "name": "stdout",
     "output_type": "stream",
     "text": [
      "Percent accuracy within each fold:\n",
      "\n",
      "[ 0.78  0.76  0.76  0.74  0.79  0.66  0.57  0.77  0.8   0.78]\n",
      "\n",
      "Mean accuracy:\n",
      "\n",
      "0.741\n"
     ]
    }
   ],
   "source": [
    "gnb = GaussianNB()\n",
    "scores = cross_val_score(gnb, data, target, cv = 10, scoring=\"accuracy\")\n",
    "\n",
    "print(\"Percent accuracy within each fold:\\n\")\n",
    "print(scores)\n",
    "print(\"\\nMean accuracy:\\n\")\n",
    "print(scores.mean())\n",
    "\n",
    "classifiers_compare = classifiers_compare.append([[\"GaussianNB\", (scores.mean())]])"
   ]
  },
  {
   "cell_type": "markdown",
   "metadata": {
    "deletable": true,
    "editable": true
   },
   "source": [
    "## 3. Multinomial Naive Bayes"
   ]
  },
  {
   "cell_type": "code",
   "execution_count": 8,
   "metadata": {
    "collapsed": false,
    "deletable": true,
    "editable": true
   },
   "outputs": [
    {
     "name": "stdout",
     "output_type": "stream",
     "text": [
      "Percent accuracy within each fold:\n",
      "\n",
      "[ 0.81  0.78  0.82  0.77  0.8   0.71  0.71  0.76  0.79  0.72]\n",
      "\n",
      "Mean accuracy:\n",
      "\n",
      "0.767\n"
     ]
    }
   ],
   "source": [
    "mnb = MultinomialNB()\n",
    "\n",
    "scores = cross_val_score(mnb, data, target, cv = 10, scoring=\"accuracy\")\n",
    "\n",
    "print(\"Percent accuracy within each fold:\\n\")\n",
    "print(scores)\n",
    "print(\"\\nMean accuracy:\\n\")\n",
    "print(scores.mean())\n",
    "\n",
    "classifiers_compare = classifiers_compare.append([[\"MultinomialNB\", (scores.mean())]])"
   ]
  },
  {
   "cell_type": "markdown",
   "metadata": {
    "deletable": true,
    "editable": true
   },
   "source": [
    "## 4. Decision Tree Classifier"
   ]
  },
  {
   "cell_type": "code",
   "execution_count": 9,
   "metadata": {
    "collapsed": false,
    "deletable": true,
    "editable": true
   },
   "outputs": [
    {
     "name": "stdout",
     "output_type": "stream",
     "text": [
      "Percent accuracy within each fold:\n",
      "\n",
      "[ 0.74  0.74  0.75  0.75  0.67  0.68  0.64  0.64  0.73  0.62]\n",
      "\n",
      "Mean accuracy:\n",
      "\n",
      "0.696\n"
     ]
    }
   ],
   "source": [
    "dtc = DecisionTreeClassifier(max_depth=5)\n",
    "scores = cross_val_score(dtc, data, target, cv = 10, scoring=\"accuracy\")\n",
    "scores\n",
    "\n",
    "print(\"Percent accuracy within each fold:\\n\")\n",
    "print(scores)\n",
    "print(\"\\nMean accuracy:\\n\")\n",
    "print(scores.mean())\n",
    "\n",
    "classifiers_compare = classifiers_compare.append([[\"DecisionTree\", (scores.mean())]])"
   ]
  },
  {
   "cell_type": "markdown",
   "metadata": {
    "deletable": true,
    "editable": true
   },
   "source": [
    "## 5. K-Nearest Neighbors "
   ]
  },
  {
   "cell_type": "code",
   "execution_count": 10,
   "metadata": {
    "collapsed": false,
    "deletable": true,
    "editable": true
   },
   "outputs": [
    {
     "name": "stdout",
     "output_type": "stream",
     "text": [
      "[0.61499999999999999, 0.61099999999999999, 0.64100000000000001, 0.76000000000000001, 0.76200000000000001, 0.73699999999999988, 0.748, 0.747, 0.75500000000000012, 0.75400000000000011, 0.75500000000000012, 0.754, 0.73399999999999999, 0.75, 0.72900000000000009, 0.74399999999999999, 0.72300000000000009, 0.74600000000000011, 0.72399999999999998, 0.74099999999999999, 0.71599999999999997, 0.72199999999999986, 0.72000000000000008, 0.73999999999999999, 0.71699999999999997, 0.73999999999999999, 0.73199999999999998, 0.74099999999999999, 0.7390000000000001]\n"
     ]
    }
   ],
   "source": [
    "# search for an optimal value of K for KNN\n",
    "k_range = range(1,30)\n",
    "k_scores = []\n",
    "for k in k_range: \n",
    "    knn = KNeighborsClassifier(n_neighbors = k)\n",
    "    scores = cross_val_score(knn, data, target, cv = 10, \n",
    "                             scoring=\"accuracy\")\n",
    "    k_scores.append(scores.mean())\n",
    "print(k_scores)"
   ]
  },
  {
   "cell_type": "code",
   "execution_count": 11,
   "metadata": {
    "collapsed": false,
    "deletable": true,
    "editable": true
   },
   "outputs": [
    {
     "data": {
      "text/plain": [
       "<matplotlib.text.Text at 0x10bb1b668>"
      ]
     },
     "execution_count": 11,
     "metadata": {},
     "output_type": "execute_result"
    },
    {
     "data": {
      "image/png": "[encoded data removed]",
      "text/plain": [
       "<matplotlib.figure.Figure at 0x107970550>"
      ]
     },
     "metadata": {},
     "output_type": "display_data"
    }
   ],
   "source": [
    "import matplotlib.pyplot as plt\n",
    "%matplotlib inline\n",
    "\n",
    "# plot the value of K for KNN (x-axis) versus the cross-validated accuracy (y-axis)\n",
    "plt.plot(k_range, k_scores)\n",
    "plt.xlabel(\"Value of K for KNN\")\n",
    "plt.ylabel(\"Cross-Validated Accuracy\")"
   ]
  },
  {
   "cell_type": "markdown",
   "metadata": {
    "deletable": true,
    "editable": true
   },
   "source": [
    "Looks like k=5 is the optimal k-value for this dataset. "
   ]
  },
  {
   "cell_type": "code",
   "execution_count": 12,
   "metadata": {
    "collapsed": false,
    "deletable": true,
    "editable": true
   },
   "outputs": [
    {
     "name": "stdout",
     "output_type": "stream",
     "text": [
      "Percent accuracy within each fold:\n",
      "\n",
      "[ 0.8   0.79  0.83  0.76  0.74  0.68  0.71  0.77  0.78  0.76]\n",
      "\n",
      "Mean accuracy:\n",
      "\n",
      "0.762\n"
     ]
    }
   ],
   "source": [
    "knn = KNeighborsClassifier(n_neighbors=5)\n",
    "\n",
    "scores = cross_val_score(knn, data, target, cv = 10, scoring = \"accuracy\")\n",
    "\n",
    "print(\"Percent accuracy within each fold:\\n\")\n",
    "print(scores)\n",
    "print(\"\\nMean accuracy:\\n\")\n",
    "print(scores.mean())\n",
    "\n",
    "classifiers_compare = classifiers_compare.append([[\"KNN\", (scores.mean())]])\n"
   ]
  },
  {
   "cell_type": "code",
   "execution_count": 13,
   "metadata": {
    "collapsed": false,
    "deletable": true,
    "editable": true
   },
   "outputs": [
    {
     "data": {
      "text/html": [
       "<div>\n",
       "<table border=\"1\" class=\"dataframe\">\n",
       "  <thead>\n",
       "    <tr style=\"text-align: right;\">\n",
       "      <th></th>\n",
       "      <th>0</th>\n",
       "      <th>1</th>\n",
       "    </tr>\n",
       "  </thead>\n",
       "  <tbody>\n",
       "    <tr>\n",
       "      <th>0</th>\n",
       "      <td>BernoulliNB</td>\n",
       "      <td>0.773</td>\n",
       "    </tr>\n",
       "    <tr>\n",
       "      <th>0</th>\n",
       "      <td>GaussianNB</td>\n",
       "      <td>0.741</td>\n",
       "    </tr>\n",
       "    <tr>\n",
       "      <th>0</th>\n",
       "      <td>MultinomialNB</td>\n",
       "      <td>0.767</td>\n",
       "    </tr>\n",
       "    <tr>\n",
       "      <th>0</th>\n",
       "      <td>DecisionTree</td>\n",
       "      <td>0.696</td>\n",
       "    </tr>\n",
       "    <tr>\n",
       "      <th>0</th>\n",
       "      <td>KNN</td>\n",
       "      <td>0.762</td>\n",
       "    </tr>\n",
       "  </tbody>\n",
       "</table>\n",
       "</div>"
      ],
      "text/plain": [
       "               0      1\n",
       "0    BernoulliNB  0.773\n",
       "0     GaussianNB  0.741\n",
       "0  MultinomialNB  0.767\n",
       "0   DecisionTree  0.696\n",
       "0            KNN  0.762"
      ]
     },
     "execution_count": 13,
     "metadata": {},
     "output_type": "execute_result"
    }
   ],
   "source": [
    "classifiers_compare"
   ]
  },
  {
   "cell_type": "code",
   "execution_count": 14,
   "metadata": {
    "collapsed": false,
    "deletable": true,
    "editable": true
   },
   "outputs": [
    {
     "data": {
      "image/png": "[encoded data removed]",
      "text/plain": [
       "<matplotlib.figure.Figure at 0x10bb1df98>"
      ]
     },
     "metadata": {},
     "output_type": "display_data"
    }
   ],
   "source": [
    "plt.figure(figsize=(15,5))\n",
    "sns.set(style=\"whitegrid\")\n",
    "sns.barplot(x=0, y=1, data=classifiers_compare, palette=\"BuGn_d\")\n",
    "plt.xlabel(\"Model and Distribution\")\n",
    "plt.ylim(0,1)\n",
    "plt.ylabel(\"Percent Accuracy\")\n",
    "plt.show()\n"
   ]
  },
  {
   "cell_type": "markdown",
   "metadata": {
    "deletable": true,
    "editable": true
   },
   "source": [
    "\n",
    "## Do any of your classifiers seem to overfit?\n",
    "\n",
    "None of these classifiers seem to overfit. 10-fold cross validation was used in all cases, and the highest rate of accuracy was 77.3% on this run.     \n",
    "\n",
    "## Which seem to perform the best? Why?\n",
    "\n",
    "The Bernoulli Naive Bayes model returned the best accuracy when cross-validation was used. This is because the Bernoulli distribution is well suited to cases with two possible outcomes. \n",
    "\n",
    "\n",
    "## What features seemed to be most impactful to performance?\n",
    "\n",
    "The model used had a large impact on performance. Specific keywords are also likely to be impactful to performance. Let's look at the difference in accuracy when we remove the five most-common keywords from the model. "
   ]
  },
  {
   "cell_type": "code",
   "execution_count": 15,
   "metadata": {
    "collapsed": false
   },
   "outputs": [],
   "source": [
    "# Create a new Data Frame with the value counts for each key\n",
    "mydf = pd.DataFrame(data.sum())\n",
    "mydf.reset_index(inplace=True)\n",
    "mydf.columns = [\"key\", \"valueCounts\"]\n",
    "\n",
    "# Return the 5 most common keys found in the review set\n",
    "myTopVals = sorted(list(mydf[\"valueCounts\"]))[-5]\n",
    "myTopVals\n",
    "\n",
    "# Remove keys with more than threshold value of valuecounts.  \n",
    "newKeys = mydf[mydf.valueCounts < myTopVals].key\n",
    "newKeys = list(newKeys)"
   ]
  },
  {
   "cell_type": "code",
   "execution_count": 16,
   "metadata": {
    "collapsed": false,
    "deletable": true,
    "editable": true
   },
   "outputs": [
    {
     "name": "stdout",
     "output_type": "stream",
     "text": [
      "Percent accuracy within each fold:\n",
      "\n",
      "[ 0.62  0.62  0.64  0.58  0.65  0.58  0.58  0.64  0.61  0.7 ]\n",
      "\n",
      "Mean accuracy:\n",
      "\n",
      "0.622\n"
     ]
    }
   ],
   "source": [
    "data = amazon_raw[newKeys]    \n",
    "target = amazon_raw['satisfaction']\n",
    "scores = cross_val_score(bnb, data, target, cv = 10, scoring=\"accuracy\")\n",
    "\n",
    "print(\"Percent accuracy within each fold:\\n\")\n",
    "print(scores)\n",
    "print(\"\\nMean accuracy:\\n\")\n",
    "print(scores.mean())"
   ]
  },
  {
   "cell_type": "markdown",
   "metadata": {},
   "source": [
    "By removing the top 5 keys from the Bernoulli Naive Bayes mode, there was a change in overall accuracy from 77.3% to 62.2%. The choice of which keys to include in the model have a large impact on the overall accuracy of the model. "
   ]
  }
 ],
 "metadata": {
  "kernelspec": {
   "display_name": "Python 3",
   "language": "python",
   "name": "python3"
  },
  "language_info": {
   "codemirror_mode": {
    "name": "ipython",
    "version": 3
   },
   "file_extension": ".py",
   "mimetype": "text/x-python",
   "name": "python",
   "nbconvert_exporter": "python",
   "pygments_lexer": "ipython3",
   "version": "3.5.2"
  }
 },
 "nbformat": 4,
 "nbformat_minor": 2
}
