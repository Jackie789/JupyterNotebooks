{
 "cells": [
  {
   "cell_type": "markdown",
   "metadata": {},
   "source": [
    "## Challenge: Advanced Logistic Regression\n",
    "\n",
    "Author: Jackie Zuker\n",
    "\n",
    "Using a datasest with a binary outcome, create Vanilla, LASSO, and Ridge Logistic Regression models. "
   ]
  },
  {
   "cell_type": "code",
   "execution_count": 1,
   "metadata": {
    "collapsed": true
   },
   "outputs": [],
   "source": [
    "import pandas as pd\n",
    "import numpy as np\n",
    "import matplotlib.pyplot as plt\n",
    "%matplotlib inline"
   ]
  },
  {
   "cell_type": "code",
   "execution_count": 2,
   "metadata": {
    "collapsed": false
   },
   "outputs": [],
   "source": [
    "data = pd.read_csv(\"/Users/jacquelynzuker/Desktop/DataScienceBootcamp/HR_comma_sep.csv\")\n",
    "data = pd.get_dummies(data)\n",
    "\n",
    "y = data.Work_accident\n",
    "del data[\"Work_accident\"]\n",
    "X = data"
   ]
  },
  {
   "cell_type": "code",
   "execution_count": 3,
   "metadata": {
    "collapsed": false,
    "scrolled": true
   },
   "outputs": [
    {
     "name": "stderr",
     "output_type": "stream",
     "text": [
      "/Library/Frameworks/Python.framework/Versions/3.5/lib/python3.5/site-packages/sklearn/cross_validation.py:44: DeprecationWarning: This module was deprecated in version 0.18 in favor of the model_selection module into which all the refactored classes and functions are moved. Also note that the interface of the new CV iterators are different from that of this module. This module will be removed in 0.20.\n",
      "  \"This module will be removed in 0.20.\", DeprecationWarning)\n"
     ]
    },
    {
     "name": "stdout",
     "output_type": "stream",
     "text": [
      "\n",
      "Coefficients: \n",
      " [[ 0.00736296 -0.00034525 -0.00035517 -0.00055615  0.00230041 -0.03343171\n",
      "   0.00293464 -0.0013201   0.00197058 -0.00146663 -0.00176264  0.00113527\n",
      "   0.00136051  0.00014075 -0.00111453  0.00221389 -0.00114369  0.0011809\n",
      "  -0.00151159  0.0003441 ]]\n",
      "\n",
      "Intercept: \n",
      " [-1.66849049]\n",
      "\n",
      "R-squared:\n",
      "0.855390359357\n",
      "\n",
      "Cross-Validated R-Squared of Vanilla Regression Model: 0.86 (+/- 0.00)\n"
     ]
    }
   ],
   "source": [
    "from sklearn import linear_model\n",
    "from sklearn.cross_validation import cross_val_score\n",
    "\n",
    "log_regr = linear_model.LogisticRegressionCV()\n",
    "log_regr.fit(X, y)\n",
    "\n",
    "# Inspect the results.\n",
    "print('\\nCoefficients: \\n', log_regr.coef_)\n",
    "print('\\nIntercept: \\n', log_regr.intercept_)\n",
    "print('\\nR-squared:')\n",
    "print(log_regr.score(X, y))\n",
    "\n",
    "log_regr_score = cross_val_score(log_regr, X, y, cv = 10)\n",
    "print(\"\\nCross-Validated R-Squared of Vanilla Regression Model: %0.2f (+/- %0.2f)\" \n",
    "      % (log_regr_score.mean(), log_regr_score.std() * 2))"
   ]
  },
  {
   "cell_type": "code",
   "execution_count": 4,
   "metadata": {
    "collapsed": false
   },
   "outputs": [
    {
     "name": "stdout",
     "output_type": "stream",
     "text": [
      "Cross-Validated R-Squared of Lasso Regression Model: 0.86 (+/- 0.00)\n"
     ]
    }
   ],
   "source": [
    "# LASSO Logistic Regression with an L1 penalty\n",
    "from sklearn.linear_model import LogisticRegression\n",
    "\n",
    "lasso = LogisticRegression(penalty = \"l1\", solver=\"liblinear\")\n",
    "lasso.fit(X, y)\n",
    "\n",
    "lasso_score = cross_val_score(lasso, X, y, cv=10)\n",
    "print(\"Cross-Validated R-Squared of Lasso Regression Model: %0.2f (+/- %0.2f)\" \n",
    "      % (lasso_score.mean(), lasso_score.std() * 2))"
   ]
  },
  {
   "cell_type": "code",
   "execution_count": 5,
   "metadata": {
    "collapsed": false
   },
   "outputs": [
    {
     "name": "stdout",
     "output_type": "stream",
     "text": [
      "Cross-Validated R-Squared of Ridge Regression Model: 0.86 (+/- 0.00)\n"
     ]
    }
   ],
   "source": [
    "from sklearn.linear_model import RidgeClassifier\n",
    "\n",
    "ridgelm = linear_model.RidgeClassifier(alpha=0)\n",
    "ridgelm_score = cross_val_score(ridgelm, X, y, cv=10)\n",
    "print(\"Cross-Validated R-Squared of Ridge Regression Model: %0.2f (+/- %0.2f)\" \n",
    "      % (ridgelm_score.mean(), ridgelm_score.std() * 2))"
   ]
  },
  {
   "cell_type": "code",
   "execution_count": 7,
   "metadata": {
    "collapsed": false
   },
   "outputs": [
    {
     "data": {
      "image/png": "[encoded data removed]",
      "text/plain": [
       "<matplotlib.figure.Figure at 0x10cd96fd0>"
      ]
     },
     "metadata": {},
     "output_type": "display_data"
    }
   ],
   "source": [
    "interval = 0.1\n",
    "alpha_range = np.arange(0,1,interval)\n",
    "\n",
    "# search for an optimal correlation value for Linear Models\n",
    "lasso_scores = []\n",
    "ridge_scores = []\n",
    "for alphaVal in alpha_range: \n",
    "    lasso = LogisticRegression(penalty = \"l1\", solver=\"liblinear\")\n",
    "    lasso_score = cross_val_score(lasso, X, y, cv=10)\n",
    "    lasso_scores.append(lasso_score.mean())\n",
    "    \n",
    "    ridgeBig = linear_model.RidgeClassifier(alpha=alphaVal, fit_intercept=False)\n",
    "    ridge_score = cross_val_score(ridgeBig, X, y, cv=10)\n",
    "    ridge_scores.append(ridge_score.mean())\n",
    "    \n",
    "# plot the performance of Lasso and Ridge Regression against the value of alpha\n",
    "plt.plot(alpha_range, lasso_scores, label = \"Lasso Regression\")\n",
    "plt.plot(alpha_range, ridge_scores, label = \"Ridge Regression\")\n",
    "plt.xlabel(\"Value of Alpha\")\n",
    "plt.ylabel(\"Cross-Validated Regression Score\")\n",
    "plt.legend()\n",
    "plt.title(\"Optimal Alpha Values for Lasso and Ridge Regression\")\n",
    "plt.show()"
   ]
  }
 ],
 "metadata": {
  "kernelspec": {
   "display_name": "Python 3",
   "language": "python",
   "name": "python3"
  },
  "language_info": {
   "codemirror_mode": {
    "name": "ipython",
    "version": 3
   },
   "file_extension": ".py",
   "mimetype": "text/x-python",
   "name": "python",
   "nbconvert_exporter": "python",
   "pygments_lexer": "ipython3",
   "version": "3.5.2"
  }
 },
 "nbformat": 4,
 "nbformat_minor": 2
}
